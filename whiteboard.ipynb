{
 "cells": [
  {
   "cell_type": "markdown",
   "id": "573057bc",
   "metadata": {},
   "source": [
    "# DESCRIPTION:\n",
    "# Given two Arrays in which values are the power of each soldier, return true if you survive the attack or false if you perish.\n",
    "# CONDITIONS\n",
    "# Each soldier attacks the opposing soldier in the same index of the array. The survivor is the number with the highest value.\n",
    "# If the value is the same they both perish\n",
    "# If one of the values is empty(different array lengths) the non-empty value soldier survives.\n",
    "# To survive the defending side must have more survivors than the attacking side.\n",
    "# In case there are the same number of survivors in both sides, the winner is the team with the highest initial attack power. If the total attack power of both sides is the same return true.\n",
    "# The initial attack power is the sum of all the values in each array.\n",
    "# EXAMPLES\n",
    "# attackers=[ 1, 3, 5, 7 ]   defenders=[ 2, 4, 6, 8 ]\n",
    "# 0 survivors                4 survivors\n",
    "# return true\n",
    "# attackers=[ 1, 3, 5, 7 ]   defenders=[ 2, 4 ]\n",
    "# 2 survivors  (16 damage)   2 survivors (6 damage)\n",
    "# return false\n",
    "# attackers=[ 1, 3, 5, 7 ]   defenders=[ 2, 4, 0, 8 ]\n",
    "# 1 survivors                3 survivors\n",
    "# return true"
   ]
  },
  {
   "cell_type": "code",
   "execution_count": null,
   "id": "9b4953f9",
   "metadata": {},
   "outputs": [],
   "source": [
    "attackers = [1, 3, 5, 7]\n",
    "defenders = [2, 4, 6, 8]\n",
    "\n",
    "def trojan_wars(attackers, defenders):\n",
    "    survivors = {\n",
    "        'attackers': 0,\n",
    "        'defenders': 0\n",
    "    }\n",
    "    \n",
    "    if attackers == []:\n",
    "        return False\n",
    "    elif defenders == []:\n",
    "        return True\n",
    "    else:\n",
    "        for i in range(len(attackers)):\n",
    "            if attackers[i] > defenders[i]:\n",
    "                survivors['attackers'] += 1\n",
    "            elif attackers[i] < defenders[i]:\n",
    "                survivors['defenders'] += 1\n",
    "            # attackers[i] == defenders[i]\n",
    "            else:\n",
    "                continue\n",
    "        if survivors['attackers'] > survivors['defenders']:\n",
    "            "
   ]
  },
  {
   "cell_type": "code",
   "execution_count": null,
   "id": "7fa2ab09",
   "metadata": {},
   "outputs": [],
   "source": [
    "def is_defended(attackers, defenders):\n",
    "    survivors = { 'attacks': 0 , 'defends': 0 }\n",
    "    for i in range(min(len(attackers), len(defenders))):\n",
    "        if attackers[i] > defenders[i]:\n",
    "            "
   ]
  }
 ],
 "metadata": {
  "kernelspec": {
   "display_name": "Python 3 (ipykernel)",
   "language": "python",
   "name": "python3"
  },
  "language_info": {
   "codemirror_mode": {
    "name": "ipython",
    "version": 3
   },
   "file_extension": ".py",
   "mimetype": "text/x-python",
   "name": "python",
   "nbconvert_exporter": "python",
   "pygments_lexer": "ipython3",
   "version": "3.9.13"
  }
 },
 "nbformat": 4,
 "nbformat_minor": 5
}
